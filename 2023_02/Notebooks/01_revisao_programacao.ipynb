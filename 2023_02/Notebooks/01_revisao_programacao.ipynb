{
 "cells": [
  {
   "attachments": {},
   "cell_type": "markdown",
   "metadata": {},
   "source": [
    "### Tarefa\n",
    "\n",
    "Dado um inteiro, ***n,*** performe as seguintes ações condicionais:\n",
    "\n",
    "- Se n é ímpar, imprima “Ímpar”\n",
    "- Se n é par e está no intervalo entre 2 e 5 (inclusive), imprima “Não Estranho”\n",
    "- Se n é par e está no intervalo entre 6 e 20 (inclusive), imprima “Estranho”\n",
    "- Se n é par e maior que 20, imprima “Não estranho”\n",
    "\n",
    "### Input\n",
    "\n",
    "Uma simples linha contendo um número inteiro\n",
    "\n",
    "### Limitações\n",
    "$$ 1 \\le n \\le 100 $$ \n",
    "Se você fez no computador, envie seu arquivo para o email: prof_pedrofilho@camporeal.edu.br com o assunto [ATIVIDADE 01 - PROG2]"
   ]
  },
  {
   "cell_type": "code",
   "execution_count": 4,
   "metadata": {},
   "outputs": [
    {
     "name": "stdout",
     "output_type": "stream",
     "text": [
      "a\n"
     ]
    }
   ],
   "source": [
    "# Criando uma variavel\n",
    "numero = input() # Função input recebe um valor do usuario\n",
    "print(numero)\n"
   ]
  },
  {
   "cell_type": "code",
   "execution_count": 19,
   "metadata": {},
   "outputs": [
    {
     "name": "stdout",
     "output_type": "stream",
     "text": [
      "5\n",
      "1\n",
      "impar\n"
     ]
    }
   ],
   "source": [
    "# Ter certeza que o numero é um inteiro\n",
    "numero = int(input(\"Digite um numero inteiro: \")) # Uso a função int para transformar o input\n",
    "\n",
    "print(numero)\n",
    "\n",
    "resultado_divisao = numero % 2\n",
    "\n",
    "print(resultado_divisao)\n",
    "\n",
    "# Cria uma condição - resolução primeiro item\n",
    "if (resultado_divisao == 1):\n",
    "    print('impar')\n",
    "else:\n",
    "    print('par')\n",
    "    "
   ]
  },
  {
   "cell_type": "code",
   "execution_count": 18,
   "metadata": {},
   "outputs": [
    {
     "name": "stdout",
     "output_type": "stream",
     "text": [
      "True\n"
     ]
    }
   ],
   "source": [
    "print(resultado_divisao == 1)"
   ]
  },
  {
   "cell_type": "code",
   "execution_count": 25,
   "metadata": {},
   "outputs": [
    {
     "name": "stdout",
     "output_type": "stream",
     "text": [
      "3348565\n",
      "1\n",
      "impar\n"
     ]
    }
   ],
   "source": [
    "# Ter certeza que o numero é um inteiro\n",
    "numero = int(input(\"Digite um numero inteiro: \")) # Uso a função int para transformar o input\n",
    "\n",
    "print(numero)\n",
    "\n",
    "resultado_divisao = numero % 2\n",
    "\n",
    "print(resultado_divisao)\n",
    "\n",
    "# Cria uma condição - resolução segundo item\n",
    "if (resultado_divisao):\n",
    "    print('impar')\n",
    "\n",
    "else:\n",
    "    if(numero <= 5 and numero >= 2):\n",
    "        print('Não é estranho')\n",
    "\n",
    "    "
   ]
  },
  {
   "cell_type": "code",
   "execution_count": 23,
   "metadata": {},
   "outputs": [
    {
     "name": "stdout",
     "output_type": "stream",
     "text": [
      "24.0\n"
     ]
    }
   ],
   "source": [
    "# Ter certeza que o numero é um decimal\n",
    "numero_decimal = float(input()) # Uso a função float para transformar o input\n",
    "print(numero_decimal)"
   ]
  },
  {
   "cell_type": "code",
   "execution_count": 9,
   "metadata": {},
   "outputs": [
    {
     "name": "stdout",
     "output_type": "stream",
     "text": [
      "a\n"
     ]
    }
   ],
   "source": [
    "# Ter certeza que é um nome\n",
    "nome = str(input()) # Uso a função str para transformar o input\n",
    "print(nome)"
   ]
  },
  {
   "cell_type": "code",
   "execution_count": null,
   "metadata": {},
   "outputs": [],
   "source": [
    "# Ter certeza que é um nome\n",
    "nome = str(input()) # Uso a função str para transformar o input\n",
    "print(nome)"
   ]
  }
 ],
 "metadata": {
  "kernelspec": {
   "display_name": ".venv",
   "language": "python",
   "name": "python3"
  },
  "language_info": {
   "codemirror_mode": {
    "name": "ipython",
    "version": 3
   },
   "file_extension": ".py",
   "mimetype": "text/x-python",
   "name": "python",
   "nbconvert_exporter": "python",
   "pygments_lexer": "ipython3",
   "version": "3.9.13"
  },
  "orig_nbformat": 4
 },
 "nbformat": 4,
 "nbformat_minor": 2
}
